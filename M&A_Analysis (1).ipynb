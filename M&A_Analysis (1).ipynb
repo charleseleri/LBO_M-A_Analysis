{
 "cells": [
  {
   "cell_type": "markdown",
   "id": "60ca6317",
   "metadata": {},
   "source": [
    "## Mergers & Acquisitions (M&A) Analysis - Financial Modeling\n",
    "This Jupyter Notebook provides financial modeling for M&A deals, including:\n",
    "- **Accretion/Dilution Analysis** (Impact on EPS)\n",
    "- **Synergy Analysis** (Revenue & Cost Synergies)\n",
    "- **Pro Forma Financial Statements**\n"
   ]
  },
  {
   "cell_type": "code",
   "execution_count": null,
   "id": "0859c82c",
   "metadata": {},
   "outputs": [],
   "source": [
    "# Import necessary libraries\n",
    "import pandas as pd\n",
    "import numpy as np\n",
    "\n",
    "# Sample input values\n",
    "acquirer_net_income = 500  # Acquirer Net Income ($M)\n",
    "acquirer_shares = 200  # Acquirer Outstanding Shares (M)\n",
    "target_net_income = 100  # Target Net Income ($M)\n",
    "target_shares = 50  # Target Outstanding Shares (M)\n",
    "offer_price_per_share = 50  # Offer price per target share ($)\n",
    "\n",
    "# Calculation of EPS Pre-Merger\n",
    "acquirer_eps = acquirer_net_income / acquirer_shares\n",
    "print(f'Acquirer EPS before Merger: ${acquirer_eps:.2f}')"
   ]
  },
  {
   "cell_type": "code",
   "execution_count": null,
   "id": "d781c6fe",
   "metadata": {},
   "outputs": [],
   "source": [
    "# Accretion/Dilution Analysis\n",
    "# Assuming all-stock deal with exchange ratio calculation\n",
    "\n",
    "exchange_ratio = offer_price_per_share / (acquirer_net_income / acquirer_shares)\n",
    "new_shares_issued = exchange_ratio * target_shares\n",
    "total_shares_post_merger = acquirer_shares + new_shares_issued\n",
    "\n",
    "# New EPS Calculation\n",
    "combined_net_income = acquirer_net_income + target_net_income\n",
    "new_eps = combined_net_income / total_shares_post_merger\n",
    "\n",
    "eps_effect = \"Accretive\" if new_eps > acquirer_eps else \"Dilutive\"\n",
    "print(f'New EPS after Merger: ${new_eps:.2f} ({eps_effect})')"
   ]
  }
 ],
 "metadata": {},
 "nbformat": 4,
 "nbformat_minor": 5
}